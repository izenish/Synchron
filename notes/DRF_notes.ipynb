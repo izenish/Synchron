{
 "cells": [
  {
   "cell_type": "markdown",
   "metadata": {},
   "source": [
    "## <u> Custom Permission</u>\n",
    "\n",
    "```\n",
    "    .has_permission(self, request, view)\n",
    "    .has_object_permission(self, request, view, obj)\n",
    "```"
   ]
  },
  {
   "cell_type": "code",
   "execution_count": null,
   "metadata": {},
   "outputs": [],
   "source": [
    "#example-> checks incoming ip against block ip\n",
    "# app/permissions.py\n",
    "class CustomPermission(viewset):\n",
    "    def has_permission(self, request, view):\n",
    "        '''\n",
    "            Every action calls this method\n",
    "        '''\n",
    "        ip_addr = request.META['REMOTE_ADDR']\n",
    "        blocked = Blocklist.objects.filter(ip_addr=ip_addr).exists()\n",
    "        return not blocked\n",
    "    \n",
    "    def has_object_permission(self, request, view, obj):\n",
    "         \"\"\"\n",
    "            Object-level permission to only allow owners of an object to edit it.\n",
    "            Assumes the model instance has an `owner` attribute.\n",
    "        \"\"\"\n",
    "        # Read permissions are allowed to any request,\n",
    "        # so we'll always allow GET, HEAD or OPTIONS requests.\n",
    "        if request.method in permissions.SAFE_METHODS:\n",
    "            return True\n",
    "\n",
    "        # Instance must have an attribute named `owner`.\n",
    "        return obj.user == request.user\n"
   ]
  },
  {
   "cell_type": "markdown",
   "metadata": {},
   "source": [
    "### Note:\n",
    "- The has_object_permission(...) method is called when you call the .get_object() method of the GenericAPIView.\n",
    "\n",
    "- Hence, only put, patch, delete, get(only one object), action calls has_object_permissionby default.\n",
    "\n",
    "- For custom action, or overridden action you must explictly call ```self.get_object()``` method."
   ]
  },
  {
   "cell_type": "code",
   "execution_count": null,
   "metadata": {},
   "outputs": [],
   "source": [
    "#app/view.py\n",
    "class UserViewSet(viewsets.ModelViewSet):\n",
    "    queryset = get_user_model().objects.all()\n",
    "    serializer_class = UserSerializer\n",
    "\n",
    "    @action(detail=True, permission_classes=[IsSelf])\n",
    "    def private(self, request, *args, **kwargs):\n",
    "        user = self.get_object() ## <-- You should call this or else has_object_permission will not be called\n",
    "       #alternative\n",
    "        user = self.get_object_or_404(pk) ## wont call has_object_permission\n",
    "        data = UserPrivateSerializer(user).data\n",
    "        return Response(data, status=status.HTTP_200_OK)"
   ]
  },
  {
   "cell_type": "markdown",
   "metadata": {},
   "source": [
    "---"
   ]
  },
  {
   "cell_type": "markdown",
   "metadata": {},
   "source": [
    "## <u>ViewSets</u>"
   ]
  },
  {
   "cell_type": "markdown",
   "metadata": {},
   "source": [
    "DRF has two main systems for handling views:\n",
    "\n",
    "- APIView: This provides some handler methods, to handle the http verbs: get, post, put, patch, and delete.\n",
    "- ViewSet: This is an abstraction over APIView, which provides actions as methods:\n",
    "\n",
    "    - list: read only, returns multiple resources (http verb: get). Returns a list of dicts.\n",
    "    - retrieve: read only, single resource (http verb: get, but will expect an id). Returns a single dict.\n",
    "    - create: creates a new resource (http verb: post)\n",
    "    - update/partial_update: edits a resource (http verbs: put/patch)\n",
    "    - destroy: removes a resource (http verb: delete)\n"
   ]
  },
  {
   "cell_type": "markdown",
   "metadata": {},
   "source": [
    "DRF has two main systems for handling views:\n",
    "\n",
    " - APIView: This provides some handler methods, to handle the http verbs: get, post, put, patch, and delete.\n",
    "- ViewSet: This is an abstraction over APIView, which provides actions as methods:\n",
    "\n",
    "    - list: read only, returns multiple resources (http verb: get). Returns a list of dicts.\n",
    "    - create: creates a new resource (http verb: post)\n",
    "    - retrieve (pk): read only, single resource (http verb: get, but will expect an id). Returns a single dict.\n",
    "    - update/partial_update(pk): edits a resource (http verbs: put/patch)\n",
    "    - destroy(pk): removes a resource (http verb: delete)\n"
   ]
  },
  {
   "cell_type": "markdown",
   "metadata": {},
   "source": [
    "### <u>ViewSet attributes and Methods</u>\n",
    "[Attribues and Models details](https://www.cdrf.co/3.6/rest_framework.viewsets/ViewSet.html)"
   ]
  },
  {
   "cell_type": "code",
   "execution_count": 2,
   "metadata": {},
   "outputs": [
    {
     "data": {
      "text/plain": [
       "'\\n    queryset/get_queryset(): Limits the general visibility of existing objects from the database. The \\n    queryset limits which objects will be listed and which objects can be modified or deleted. \\n    The get_queryset() method can apply different querysets based on the current action.\\n'"
      ]
     },
     "execution_count": 2,
     "metadata": {},
     "output_type": "execute_result"
    }
   ],
   "source": [
    "\n",
    "'''\n",
    "    If you are using ModelViewSet and still want to restrict some methods you can add\n",
    "'''\n",
    "http_method_names = ['get', 'post', 'head'] \n",
    "\n",
    "'''\n",
    "    permission_classes/get_permissions(): General permission checks based on the current action, request \n",
    "    and targeted object. Object level permissions can only be applied to retrieve, modify and deletion\n",
    "    actions. Permission checks for list and create will be applied to the entire object type.\n",
    "    In case of list: subject to restrictions in the queryset.)\n",
    "    In case of create: subject to restrictions in the serializer.)\n",
    "    In case of retrieve, modify and delete: subject to restrictions in the serializer.\n",
    "'''\n",
    "permission_classes = []\n",
    "\n",
    "'''\n",
    "    queryset/get_queryset(): Limits the general visibility of existing objects from the database. The \n",
    "    queryset limits which objects will be listed and which objects can be modified or deleted. \n",
    "    The get_queryset() method can apply different querysets based on the current action.\n",
    "'''\n",
    "queryset = User.objects.all().order_by('username')"
   ]
  },
  {
   "cell_type": "code",
   "execution_count": null,
   "metadata": {},
   "outputs": [],
   "source": [
    "'''\n",
    "    Determine which serializer classes to use for ViewSet\n",
    "'''\n",
    "serializer_classes = []"
   ]
  },
  {
   "cell_type": "markdown",
   "metadata": {},
   "source": [
    "### Different Serializer based on different actions"
   ]
  },
  {
   "cell_type": "code",
   "execution_count": null,
   "metadata": {},
   "outputs": [],
   "source": [
    "serializer_classes = {\n",
    "        'partial_update': UserPartialUpdateSerializer\n",
    "        # ... other actions\n",
    "}\n",
    "default_serializer_class = UserListSerializer # Your default serializer\n",
    "\n",
    "def get_serializer_class(self):\n",
    "    return self.serializer_classes.get(self.action, self.default_serializer_class)"
   ]
  },
  {
   "cell_type": "markdown",
   "metadata": {},
   "source": [
    "### Note: The better alternaive to http_methods_name is to just import requiered mixin classes from DRF"
   ]
  },
  {
   "cell_type": "markdown",
   "metadata": {},
   "source": [
    "### Different Permissions based on different Action"
   ]
  },
  {
   "cell_type": "code",
   "execution_count": null,
   "metadata": {},
   "outputs": [],
   "source": [
    "def get_permissions(self):\n",
    "    if self.action == 'list' or self.action == 'change_role':\n",
    "        permission_classes = [IsAuthenticated,isScrumMaster]\n",
    "    else:\n",
    "        permission_classes = [IsAuthenticated,IsAuthorOrReadOnly,]\n",
    "    return [permission() for permission in permission_classes]"
   ]
  },
  {
   "cell_type": "markdown",
   "metadata": {},
   "source": [
    "---"
   ]
  },
  {
   "cell_type": "markdown",
   "metadata": {},
   "source": [
    "### <u>Unit testing in DRF</u>\n",
    "\n",
    "[Unit Testing](https://www.aurigait.com/blog/unit-testing-in-django/)"
   ]
  },
  {
   "cell_type": "markdown",
   "metadata": {},
   "source": [
    "---"
   ]
  },
  {
   "cell_type": "markdown",
   "metadata": {},
   "source": []
  }
 ],
 "metadata": {
  "interpreter": {
   "hash": "ac59ebe37160ed0dfa835113d9b8498d9f09ceb179beaac4002f036b9467c963"
  },
  "kernelspec": {
   "display_name": "Python 3.9.5 64-bit",
   "language": "python",
   "name": "python3"
  },
  "language_info": {
   "codemirror_mode": {
    "name": "ipython",
    "version": 3
   },
   "file_extension": ".py",
   "mimetype": "text/x-python",
   "name": "python",
   "nbconvert_exporter": "python",
   "pygments_lexer": "ipython3",
   "version": "3.9.5"
  },
  "orig_nbformat": 4
 },
 "nbformat": 4,
 "nbformat_minor": 2
}
