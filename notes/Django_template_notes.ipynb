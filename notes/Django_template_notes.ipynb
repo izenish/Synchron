{
 "cells": [
  {
   "cell_type": "markdown",
   "metadata": {},
   "source": [
    "# Auth in django Template\n",
    "\n",
    "https://docs.djangoproject.com/en/4.0/topics/auth/default/"
   ]
  },
  {
   "cell_type": "markdown",
   "metadata": {},
   "source": [
    "# Get logged in user info in django template\n",
    "https://stackoverflow.com/questions/13713077/get-user-information-in-django-templates"
   ]
  },
  {
   "cell_type": "markdown",
   "metadata": {},
   "source": [
    "# Access variables in django template\n",
    "https://docs.djangoproject.com/en/3.0/topics/templates/#variables\n"
   ]
  }
 ],
 "metadata": {
  "language_info": {
   "name": "python"
  },
  "orig_nbformat": 4
 },
 "nbformat": 4,
 "nbformat_minor": 2
}
