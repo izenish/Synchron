{
 "cells": [
  {
   "cell_type": "markdown",
   "metadata": {},
   "source": [
    "# Querying Database"
   ]
  },
  {
   "cell_type": "markdown",
   "metadata": {},
   "source": [
    "### You can call .query method to actually see the query that get executed behind the schene"
   ]
  },
  {
   "cell_type": "code",
   "execution_count": null,
   "metadata": {},
   "outputs": [],
   "source": [
    "Post.objects.all().order_by('first name').query\n",
    "\n",
    "# SELECT first_name, last_name FROM POST ORDER BY first_name;"
   ]
  },
  {
   "cell_type": "markdown",
   "metadata": {},
   "source": [
    "### Model manager\n",
    "\n",
    "- Interface through which query operation can be performed\n",
    "- at least one manager exist for ever model\n",
    "- manager with name ```objects``` to every Django model class\n",
    "- We can also create our own model manager or modify existing model manager."
   ]
  },
  {
   "cell_type": "markdown",
   "metadata": {},
   "source": [
    "```\n",
    "    > python manage.py shell\n",
    "\n",
    "    > from models impport User\n",
    "\n",
    "    > User.objects \n",
    "    #should return Manager Object\n",
    "\n",
    "```"
   ]
  },
  {
   "cell_type": "markdown",
   "metadata": {},
   "source": [
    "## A. Creating Object\n",
    "---\n",
    "1. save\n",
    "2. create\n",
    "3. get_or_create\n",
    "4. add()\n",
    "4. update_or_create\n",
    "5. bulk_create\n",
    "6. bulk_update\n",
    "---\n",
    "### <u> 1. save(force_insert=False,force_update=False, update_fields = None) </u>\n",
    "- A model class represents a database table, and an instance of that class represents a particular record in db.\n",
    "\n",
    "- save() method doesnot return any value\n",
    "\n",
    "params:\n",
    " >   - force_insert->Bool = Force INSERT query and not fall back to UPDATE\n",
    " >   - force_update->Bool = Update if possible, but not insert new ROW.\n",
    " >   - update_field = Spicfy which fields to save, automatic force_update = True\n",
    "\n",
    "eg: \n",
    "    \n",
    "```\n",
    "   product.name = 'ice cream'\n",
    "   product.save(update_fields = ['name'])\n",
    "```\n"
   ]
  },
  {
   "cell_type": "code",
   "execution_count": null,
   "metadata": {},
   "outputs": [],
   "source": [
    "# eg\n",
    "a = User.objects.get(username='django') # get a user instance \n",
    "b = Blog(name='Interesting title', author = a) # perform INSERT operation\n",
    "\n",
    "b.id #returns none because b doesnot have an id yet\n",
    "b.save() # Django doesnot hit the database until you explictly call save()\n",
    "\n",
    "b.id # returns id of your new object\n",
    "\n"
   ]
  },
  {
   "cell_type": "markdown",
   "metadata": {},
   "source": [
    "### 2. <u>create(through_defaults=None, **kwargs)¶</u>\n",
    "\n",
    "- A conventional method of creating object and saving it all in one step.\n",
    "-  Returns the newly created object:\n",
    "\n",
    "```p = Blog.objects.create(name='Interesting title', author = a)```\n",
    "* This step is same as above example"
   ]
  },
  {
   "cell_type": "markdown",
   "metadata": {},
   "source": [
    "<b> Note : in save() method if you specify existing id(primary key) then it will update the ROW, \n",
    " how ever in create(), if you explictly specify existing pk, it will return IntegrityError since pk must be unique."
   ]
  },
  {
   "cell_type": "markdown",
   "metadata": {},
   "source": [
    "### 3. <u>get_or_create(default=None,**kwargs)</u>\n",
    "- Looks an object with the given kwargs , creating one if not found.\n",
    "- return tuple of (object, created) , where object is created object and created is bool specifying whether a new object\n",
    "    was created.\n",
    "- This is meant to prevent duplicate objects from being created when requests are made in parallel, and as a shortcut to boilerplatish code. For example:"
   ]
  },
  {
   "cell_type": "code",
   "execution_count": null,
   "metadata": {},
   "outputs": [],
   "source": [
    "try:\n",
    "    obj = Person.objects.get(first_name='John', last_name='Lennon')\n",
    "except Person.DoesNotExist:\n",
    "    obj = Person(first_name='John', last_name='Lennon', birthday=date(1940, 10, 9))\n",
    "    obj.save()"
   ]
  },
  {
   "cell_type": "markdown",
   "metadata": {},
   "source": [
    "Here, with concurrent requests, multiple attempts to save a Person with the same parameters may be made. To avoid this race condition, the above example can be rewritten using get_or_create() like so:"
   ]
  },
  {
   "cell_type": "code",
   "execution_count": null,
   "metadata": {},
   "outputs": [],
   "source": [
    "obj, created = Person.objects.get_or_create(\n",
    "    first_name='John',\n",
    "    last_name='Lennon',\n",
    "    defaults={'birthday': date(1940, 10, 9)},\n",
    ")\n"
   ]
  },
  {
   "cell_type": "markdown",
   "metadata": {},
   "source": [
    "## 4. add(*objs, bulk=True, through_defaults=None)\n",
    "\n",
    "Adds the specified model objects to the related object set.\n",
    "\n",
    "```\n",
    ">>> b = Blog.objects.get(id=1)\n",
    ">>> e = Entry.objects.get(id=234)\n",
    ">>> b.entry_set.add(e) # Associates Entry e with Blog b.\n",
    "```"
   ]
  },
  {
   "cell_type": "markdown",
   "metadata": {},
   "source": [
    "In the example above, in the case of a ForeignKey relationship, QuerySet.update() is used to perform the update. This requires the objects to already be saved.\n",
    "\n",
    "You can use the bulk=False argument to instead have the related manager perform the update by calling e.save().\n",
    "\n",
    "Using add() with a many-to-many relationship, however, will not call any save() methods (the bulk argument doesn’t exist), but rather create the relationships using QuerySet.bulk_create(). If you need to execute some custom logic when a relationship is created, listen to the m2m_changed signal, which will trigger pre_add and post_add actions.\n",
    "\n",
    "Using add() on a relation that already exists won’t duplicate the relation, but it will still trigger signals.\n",
    "\n",
    "For many-to-many relationships add() accepts either model instances or field values, normally primary keys, as the *objs argument.\n",
    "\n",
    "Use the through_defaults argument to specify values for the new intermediate model instance(s), if needed. You can use callables as values in the through_defaults dictionary and they will be evaluated once before creating any intermediate instance(s)."
   ]
  },
  {
   "cell_type": "markdown",
   "metadata": {},
   "source": [
    "## <u> B. Retriving Objects</u>"
   ]
  },
  {
   "cell_type": "code",
   "execution_count": null,
   "metadata": {},
   "outputs": [],
   "source": [
    "#all() -> for all object\n",
    "User.objects.all() # retrieve all users objects from  db\n",
    "User.objects.all().query # print the query used to retrieve all users\n",
    "\n",
    "# get() -> for only one object\n",
    "try:\n",
    "\n",
    "    User.objects.get(username='django') # return only one object\n",
    "except Model.DoesNotExist:\n",
    "    pass\n",
    "except Model.MultipleObjectReturned: \n",
    "    pass\n",
    "\n",
    "#filter() for muliple objects\n",
    "User.objects.filter(role='dev')"
   ]
  },
  {
   "cell_type": "markdown",
   "metadata": {},
   "source": [
    "### order_by,values, only, difer"
   ]
  },
  {
   "cell_type": "code",
   "execution_count": null,
   "metadata": {},
   "outputs": [],
   "source": [
    "Post.objects.all().order_by('first_name') # in ascending\n",
    "Post.objects.all().order_by('-first_name') # in desceding\n",
    "\n",
    "\n",
    "#values -> return dictionary instead of tuple of object\n",
    "Post.objects.values('id','title')\n",
    "# [{'id':5,'title':'AAAAA'} , ....]\n",
    "\n",
    "# only -> extract only provided column from database\n",
    "Post.objects.only('title','id','desc')\n",
    "\n",
    "#defer -> exclude the columns specified(inverse of only)\n",
    "Post.objects.differ('id','title')\n",
    "\n",
    "\n",
    "\n"
   ]
  },
  {
   "cell_type": "markdown",
   "metadata": {},
   "source": [
    "## <u>C. Update data in db</u>"
   ]
  },
  {
   "cell_type": "code",
   "execution_count": null,
   "metadata": {},
   "outputs": [],
   "source": [
    "#method 1\n",
    "# It is used for update but is inefficient because it create object in memory. instead use .create() method\n",
    "user  = User.objects.get(pk=1)\n",
    "user.first_name = 'Django'\n",
    "user.save()\n",
    "\n",
    "#method 2\n",
    "# efficient way/ also prevent race condition\n",
    "Entry.objects.filter(id=1).update(first_name='django')"
   ]
  },
  {
   "cell_type": "markdown",
   "metadata": {},
   "source": [
    "OR"
   ]
  },
  {
   "cell_type": "markdown",
   "metadata": {},
   "source": [
    " To turn comments off for all blog entries published in 2010, you could do this"
   ]
  },
  {
   "cell_type": "code",
   "execution_count": null,
   "metadata": {},
   "outputs": [],
   "source": [
    "Entry.objects.filter(pub_date__year=2010).update(comments_on=False)\n"
   ]
  },
  {
   "cell_type": "markdown",
   "metadata": {},
   "source": [
    "(This assumes your Entry model has fields pub_date and comments_on.)"
   ]
  },
  {
   "cell_type": "markdown",
   "metadata": {},
   "source": [
    "The update() method is applied instantly, and the only restriction on the QuerySet that is updated is that it can only update columns in the model’s main table, not on related models. You can’t do this, for example:"
   ]
  },
  {
   "cell_type": "code",
   "execution_count": null,
   "metadata": {},
   "outputs": [],
   "source": [
    "Entry.objects.update(blog__name='foo') # Won't work!"
   ]
  },
  {
   "cell_type": "markdown",
   "metadata": {},
   "source": [
    "Finally, realize that update() does an update at the SQL level and, thus, does not call any save() methods on your models, nor does it emit the pre_save or post_save signals (which are a consequence of calling Model.save()). If you want to update a bunch of records for a model that has a custom save() method, loop over them and call save(), like this:"
   ]
  },
  {
   "cell_type": "code",
   "execution_count": null,
   "metadata": {},
   "outputs": [],
   "source": [
    "for e in Entry.objects.filter(pub_date__year=2010):\n",
    "    e.comments_on = False\n",
    "    e.save()"
   ]
  },
  {
   "cell_type": "markdown",
   "metadata": {},
   "source": [
    "##  <u> E. Delete data from db</u>\n"
   ]
  },
  {
   "cell_type": "code",
   "execution_count": null,
   "metadata": {},
   "outputs": [],
   "source": [
    "user  = User.objects.get(pk=1)\n",
    "user.delete()\n",
    "\n",
    "# or\n",
    "\n",
    "User.objects.filter(id=1).delete()\n"
   ]
  },
  {
   "cell_type": "markdown",
   "metadata": {},
   "source": [
    "The delete() method does a bulk delete and does not call any delete() methods on your models. It does, however, emit the pre_delete and post_delete signals for all deleted objects (including cascaded deletions).\n",
    "\n"
   ]
  },
  {
   "cell_type": "markdown",
   "metadata": {},
   "source": [
    "---"
   ]
  },
  {
   "cell_type": "markdown",
   "metadata": {},
   "source": [
    "# Migrations"
   ]
  },
  {
   "cell_type": "markdown",
   "metadata": {},
   "source": [
    "1. makemigrations - create new migrations based on model\n",
    "2. migrate - apply and un apply migrations\n",
    "3. showmigrations - list a projects migration and their status\n",
    "4. sqlmigrate  - display sql statements for a migration\n"
   ]
  },
  {
   "cell_type": "markdown",
   "metadata": {},
   "source": [
    "# Model field types\n",
    "\n",
    "[Descriptions of types](https://www.geeksforgeeks.org/django-model-data-types-and-fields-list/)"
   ]
  },
  {
   "cell_type": "markdown",
   "metadata": {},
   "source": [
    "1. CharField\n",
    "2. TextField\n",
    "3. DateField\n",
    "4. TimeField\n",
    "5. DateTimeField\n",
    "6. SlugField \n",
    "7. ImageField\n",
    "8. EmailField\n",
    "9. FileField\n",
    "10. JSONField\n",
    "11. URLField\n",
    "12. ForeignKey\n",
    "13. ManyToManyField\n",
    " and others ..."
   ]
  },
  {
   "cell_type": "markdown",
   "metadata": {},
   "source": [
    "## Primary Key in django\n",
    "By default django gives each model an auto_incrementing primary key with the type specified per app in AppConfig.default_auto_field or globally in DEFAULT_AUTO_FIELD setting.py\n",
    "\n",
    "For example ```id=models.BigAutoField(primary_key=True)```"
   ]
  },
  {
   "cell_type": "markdown",
   "metadata": {},
   "source": [
    "# Model Field Options"
   ]
  },
  {
   "cell_type": "markdown",
   "metadata": {},
   "source": [
    "null -> Bool\n",
    "blank -> Bool\n",
    "choices -> set of choices\n",
    "default -> \n",
    "editable -> Bool (user wont be able to edit this field)\n",
    "error_message -> \n",
    "help_text -> (usually format of this field)\n",
    "primary_key\n",
    "unique -> Bool\n",
    "verbose_name -> Optional first positional argument, available to all except Many2many,1to1,many2one,\n",
    ">    ``` name = models.CharField('full name',max_le....)```<br>\n",
    ">    ``` full_name = models.CharField(max_length = ....)```<br>\n",
    ">            -> verbose name  = full_name -> full name\n"
   ]
  },
  {
   "cell_type": "code",
   "execution_count": null,
   "metadata": {},
   "outputs": [],
   "source": [
    "# eg:\n",
    "\n",
    "from django.db import models\n",
    "class User(models.Model):\n",
    "\n",
    "\n",
    "    ROLE_CHOICES = (\n",
    "        # Left is stored in DB, Right is displayed in frontend\n",
    "        ('ADMIN','ADMIN')\n",
    "        ('DEV','DEVELOPER')\n",
    "        ('SU','SUPERADMIN')\n",
    "        ('MGMT','MANAGEMENT')\n",
    "    )\n",
    "\n",
    "    first_name = models.CharField(max_length=250,\n",
    "        error_messages={\n",
    "            'max_length':'You cant add more than 250 char'\n",
    "        }\n",
    "    )\n",
    "    body = models.TextField()\n",
    "    joined_on = models.DateTimeField(auto_now_add=True)\n",
    "    updated_on = models.DateTimeField(auto_now=True)\n",
    "    slug = models.SlugField(max_length=300,unique=True,null=True,blank=True)\n",
    "    is_active = models.BooleanField(default=True)\n",
    "    role = models.CharField(max_length=5,choices=ROLE_CHOICES, default='DEV')\n",
    "\n"
   ]
  },
  {
   "cell_type": "markdown",
   "metadata": {},
   "source": [
    "# Relationship in Django"
   ]
  },
  {
   "cell_type": "markdown",
   "metadata": {},
   "source": [
    "# 1.Many-to-many fields:\n",
    "This is used when one record of a model A is related to multiple records of another model B and vice versa. For example – a model Book has many-to-many relationship with a model Author, i.e. an book can be written by multiple authors and an author can write multiple books. Many-to-many relations are defined using ManyToManyField field of django.db.models"
   ]
  },
  {
   "cell_type": "code",
   "execution_count": null,
   "metadata": {},
   "outputs": [],
   "source": [
    "from django.db import models\n",
    "  \n",
    "class Author(models.Model):\n",
    "    name = models.CharField(max_length = 100)\n",
    "    desc = models.TextField(max_length = 300)\n",
    "  \n",
    "class Book(models.Model):\n",
    "    title = models.CharField(max_length = 100)\n",
    "    desc = models.TextField(max_length = 300)\n",
    "    authors = models.ManyToManyField(Author)"
   ]
  },
  {
   "cell_type": "markdown",
   "metadata": {},
   "source": [
    "It is a good practice to name the many-to-many field with the plural version of the related model, lowercase. It doesn’t matter which of the two models contain the many-to-many field, but it shouldn’t be put in both the models."
   ]
  },
  {
   "cell_type": "markdown",
   "metadata": {},
   "source": [
    "### NOTE:\n",
    "\n",
    "- By default, django creates an intermediate class for many to many relationship. This is the only \n",
    "  way database knows many to many relationship.\n",
    "-  We need to specify the intermediate model via through parameter in ManyToManyField."
   ]
  },
  {
   "cell_type": "code",
   "execution_count": null,
   "metadata": {},
   "outputs": [],
   "source": [
    "class Item(models.Model):\n",
    "    name = models.CharField(max_length = 128)\n",
    "    price = models.DecimalField(max_digits = 5, decimal_places = 2)\n",
    " \n",
    "    def __str__(self):\n",
    "        return self.name\n",
    " \n",
    "class Customer(models.Model):\n",
    "    name = models.CharField(max_length = 128)\n",
    "    age = models.IntegerField()\n",
    "    items_purchased = models.ManyToManyField(Item, through = 'Purchase')\n",
    " \n",
    "    def __str__(self):\n",
    "        return self.name\n",
    " \n",
    "class Purchase(models.Model):\n",
    "    item = models.ForeignKey(Item, on_delete = models.CASCADE)\n",
    "    customer = models.ForeignKey(Customer, on_delete = models.CASCADE)\n",
    "    date_purchased = models.DateField()\n",
    "    quantity_purchased = models.IntegerField()\n",
    "    # We can make customer and item unique by defining following meta class\n",
    "    class Meta:\n",
    "        unique_together = ('item','customer',)\n"
   ]
  },
  {
   "cell_type": "markdown",
   "metadata": {},
   "source": [
    "# 2. Many-to-One"
   ]
  },
  {
   "cell_type": "markdown",
   "metadata": {},
   "source": [
    "This is used when one record of a model A is related to multiple records of another model B. For example – a model Song has many-to-one relationship with a model Album, i.e. an album can have many songs, but one song cannot be part of multiple albums. Many-to-one relations are defined using ForeignKey field of django.db.models.\n",
    "\n"
   ]
  },
  {
   "cell_type": "code",
   "execution_count": null,
   "metadata": {},
   "outputs": [],
   "source": [
    "class Album(models.Model):\n",
    "    title = models.CharField(max_length = 100)\n",
    "    artist = models.CharField(max_length = 100)\n",
    "  \n",
    "class Song(models.Model):\n",
    "    title = models.CharField(max_length = 100)\n",
    "    album = models.ForeignKey(Album, on_delete = models.CASCADE)"
   ]
  },
  {
   "cell_type": "markdown",
   "metadata": {},
   "source": [
    "It is a good practice to name the many-to-one field with the same name as the related model, lowercase."
   ]
  },
  {
   "cell_type": "markdown",
   "metadata": {},
   "source": [
    "# 3. One-to-one fields:\n",
    "This is used when one record of a model A is related to exactly one record of another model B. This field can be useful as a primary key of an object if that object extends another object in some way. For example – a model Car has one-to-one relationship with a model Vehicle, i.e. a car is a vehicle. One-to-one relations are defined using OneToOneField field of django.db.models.\n",
    "\n",
    "Below is an example to demonstrate the same."
   ]
  },
  {
   "cell_type": "code",
   "execution_count": 2,
   "metadata": {},
   "outputs": [
    {
     "ename": "NameError",
     "evalue": "name 'models' is not defined",
     "output_type": "error",
     "traceback": [
      "\u001b[1;31m---------------------------------------------------------------------------\u001b[0m",
      "\u001b[1;31mNameError\u001b[0m                                 Traceback (most recent call last)",
      "\u001b[1;32mc:\\Users\\arun.prajapati\\OneDrive - Cotiviti\\Desktop\\Synchron\\django_orm.ipynb Cell 19'\u001b[0m in \u001b[0;36m<cell line: 1>\u001b[1;34m()\u001b[0m\n\u001b[1;32m----> <a href='vscode-notebook-cell:/c%3A/Users/arun.prajapati/OneDrive%20-%20Cotiviti/Desktop/Synchron/django_orm.ipynb#ch0000017?line=0'>1</a>\u001b[0m \u001b[39mclass\u001b[39;00m \u001b[39mVehicle\u001b[39;00m(models\u001b[39m.\u001b[39mModel):\n\u001b[0;32m      <a href='vscode-notebook-cell:/c%3A/Users/arun.prajapati/OneDrive%20-%20Cotiviti/Desktop/Synchron/django_orm.ipynb#ch0000017?line=1'>2</a>\u001b[0m     reg_no \u001b[39m=\u001b[39m models\u001b[39m.\u001b[39mIntegerField()\n\u001b[0;32m      <a href='vscode-notebook-cell:/c%3A/Users/arun.prajapati/OneDrive%20-%20Cotiviti/Desktop/Synchron/django_orm.ipynb#ch0000017?line=2'>3</a>\u001b[0m     owner \u001b[39m=\u001b[39m models\u001b[39m.\u001b[39mCharField(max_length \u001b[39m=\u001b[39m \u001b[39m100\u001b[39m)\n",
      "\u001b[1;31mNameError\u001b[0m: name 'models' is not defined"
     ]
    }
   ],
   "source": [
    "class Vehicle(models.Model):\n",
    "    reg_no = models.IntegerField()\n",
    "    owner = models.CharField(max_length = 100)\n",
    "  \n",
    "class Car(models.Model):\n",
    "    vehicle = models.OneToOneField(Vehicle, \n",
    "          on_delete = models.CASCADE, primary_key = True)\n",
    "    car_model = models.CharField(max_length = 100)"
   ]
  },
  {
   "cell_type": "markdown",
   "metadata": {},
   "source": [
    "# Data integrity options:\n",
    "Since we are creating models which depend on other models, we need to define the behavior of a record in one model when the corresponding record in the other is deleted. This is achieved by adding an optional on_delete parameter in the relational field, which can take the following values:\n",
    "\n",
    "1. <u>on_delete</u> = models.CASCADE – This is the default value. It automatically deletes all the related records when a record is deleted.(e.g. when an Album record is deleted all the Song records related to it will be deleted)\n",
    "2. <u>on_delete</u> = models.PROTECT – It blocks the deletion of a record having relation with other records.(e.g. any attempt to delete an Album record will be blocked)\n",
    "3. <u>on_delete</u>  = models.SET_NULL – It assigns NULL to the relational field when a record is deleted, provided null = True is set.\n",
    "4. <u>on_delete</u>  = models.SET_DEFAULT – It assigns default values to the relational field when a record is deleted, a default value has to be provided.\n",
    "5. <u>on_delete</u>  = models.SET() – It can either take a default value as parameter, or a callable, the return value of which will be assigned to the field.\n",
    "6. <u>on_delete</u>  = models.DO_NOTHING – Takes no action. Its a bad practice to use this value.\n"
   ]
  },
  {
   "cell_type": "markdown",
   "metadata": {},
   "source": [
    "# Model Methods\n",
    "\n",
    "\n"
   ]
  },
  {
   "cell_type": "code",
   "execution_count": null,
   "metadata": {},
   "outputs": [],
   "source": [
    "from django.utils.text import slugify\n",
    "class Company(models):\n",
    "    name = models.CharField(max_length=100)\n",
    "    # A slug is a short label for something, containing only letters, numbers, underscores or hyphens\n",
    "    slug = models.CharField(max_length=100)\n",
    "\n",
    "    def __str__(self):\n",
    "        '''\n",
    "        Str reprensentation used by admin panel\n",
    "        '''\n",
    "        return self.name\n",
    "    \n",
    "    def save(self,*args,**kwargs):\n",
    "        '''\n",
    "        Override method, run when save is called. eg. User.save()\n",
    "        '''\n",
    "        if not self.slug:\n",
    "\n",
    "            self.slug = slugify(self.name) + 'a_unique_value_placeholder'\n",
    "        return super().save(*args,**kwargs)\n",
    "\n",
    "    class meta:\n",
    "        '''\n",
    "\n",
    "            https://www.geeksforgeeks.org/meta-class-in-models-django/#:~:text=Model%20Meta%20is%20basically%20the,Meta%20class%20in%20your%20model.\n",
    "\n",
    "\n",
    "            metadata is anything thats not a field.such as ordering options, db tablename, human readabale signature\n",
    "            pluarl_names( verbose_name and verbose_name_plural)\n",
    "\n",
    "\n",
    "            OPTIONAL\n",
    "        '''\n",
    "\n",
    "        abstract = True\n",
    "        verbose_name = 'Comparny'\n",
    "        db_table = 'Company'\n",
    "        order_with_respect_to = ''\n",
    "        ordering = ''\n",
    "        permissions = ''\n",
    "        indexes = ''\n",
    "        unique_together = ''\n",
    "        index_together = ''\n",
    "        .."
   ]
  }
 ],
 "metadata": {
  "interpreter": {
   "hash": "ac59ebe37160ed0dfa835113d9b8498d9f09ceb179beaac4002f036b9467c963"
  },
  "kernelspec": {
   "display_name": "Python 3.9.5 64-bit",
   "language": "python",
   "name": "python3"
  },
  "language_info": {
   "codemirror_mode": {
    "name": "ipython",
    "version": 3
   },
   "file_extension": ".py",
   "mimetype": "text/x-python",
   "name": "python",
   "nbconvert_exporter": "python",
   "pygments_lexer": "ipython3",
   "version": "3.9.5"
  },
  "orig_nbformat": 4
 },
 "nbformat": 4,
 "nbformat_minor": 2
}
